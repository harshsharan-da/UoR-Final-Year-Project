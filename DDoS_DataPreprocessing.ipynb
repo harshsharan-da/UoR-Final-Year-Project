{
 "cells": [
  {
   "cell_type": "code",
   "execution_count": 5,
   "metadata": {},
   "outputs": [],
   "source": [
    "import pandas as pd\n",
    "import random\n",
    "import sklearn\n",
    "from sklearn.utils import shuffle\n",
    "\n",
    "#df = pandas.read_csv(\"/Users/harshsharan/Downloads/archive/ddos_balanced/final_dataset.csv\")\n",
    "#n = sum(1 for line in open(filename)) - 1 #number of records in file (excludes header)\n",
    "#s = 3000 #desired sample size\n",
    "#skip = sorted(random.sample(range(1,n+1),n-s)) #the 0-indexed header will not be included in the skip list\n",
    "#df = pandas.read_csv(filename, skiprows=skip)"
   ]
  },
  {
   "cell_type": "code",
   "execution_count": 71,
   "metadata": {},
   "outputs": [
    {
     "name": "stdout",
     "output_type": "stream",
     "text": [
      "<class 'pandas.core.frame.DataFrame'>\n",
      "Int64Index: 7568347 entries, 0 to 7616508\n",
      "Data columns (total 79 columns):\n",
      " #   Column             Dtype  \n",
      "---  ------             -----  \n",
      " 0   Unnamed: 0         int64  \n",
      " 1   Flow ID            object \n",
      " 2   Src IP             object \n",
      " 3   Src Port           int64  \n",
      " 4   Dst IP             object \n",
      " 5   Dst Port           int64  \n",
      " 6   Protocol           int64  \n",
      " 7   Timestamp          object \n",
      " 8   Flow Duration      int64  \n",
      " 9   Tot Fwd Pkts       int64  \n",
      " 10  Tot Bwd Pkts       int64  \n",
      " 11  TotLen Fwd Pkts    float64\n",
      " 12  TotLen Bwd Pkts    float64\n",
      " 13  Fwd Pkt Len Max    float64\n",
      " 14  Fwd Pkt Len Min    float64\n",
      " 15  Fwd Pkt Len Mean   float64\n",
      " 16  Fwd Pkt Len Std    float64\n",
      " 17  Bwd Pkt Len Max    float64\n",
      " 18  Bwd Pkt Len Min    float64\n",
      " 19  Bwd Pkt Len Mean   float64\n",
      " 20  Bwd Pkt Len Std    float64\n",
      " 21  Flow Byts/s        float64\n",
      " 22  Flow Pkts/s        float64\n",
      " 23  Flow IAT Mean      float64\n",
      " 24  Flow IAT Std       float64\n",
      " 25  Flow IAT Max       float64\n",
      " 26  Flow IAT Min       float64\n",
      " 27  Fwd IAT Tot        float64\n",
      " 28  Fwd IAT Mean       float64\n",
      " 29  Fwd IAT Std        float64\n",
      " 30  Fwd IAT Max        float64\n",
      " 31  Fwd IAT Min        float64\n",
      " 32  Bwd IAT Tot        float64\n",
      " 33  Bwd IAT Mean       float64\n",
      " 34  Bwd IAT Std        float64\n",
      " 35  Bwd IAT Max        float64\n",
      " 36  Bwd IAT Min        float64\n",
      " 37  Fwd PSH Flags      int64  \n",
      " 38  Bwd PSH Flags      int64  \n",
      " 39  Fwd URG Flags      int64  \n",
      " 40  Bwd URG Flags      int64  \n",
      " 41  Fwd Header Len     int64  \n",
      " 42  Bwd Header Len     int64  \n",
      " 43  Fwd Pkts/s         float64\n",
      " 44  Bwd Pkts/s         float64\n",
      " 45  Pkt Len Min        float64\n",
      " 46  Pkt Len Max        float64\n",
      " 47  Pkt Len Mean       float64\n",
      " 48  Pkt Len Std        float64\n",
      " 49  Pkt Len Var        float64\n",
      " 50  FIN Flag Cnt       int64  \n",
      " 51  SYN Flag Cnt       int64  \n",
      " 52  RST Flag Cnt       int64  \n",
      " 53  PSH Flag Cnt       int64  \n",
      " 54  ACK Flag Cnt       int64  \n",
      " 55  URG Flag Cnt       int64  \n",
      " 56  CWE Flag Count     int64  \n",
      " 57  ECE Flag Cnt       int64  \n",
      " 58  Down/Up Ratio      float64\n",
      " 59  Pkt Size Avg       float64\n",
      " 60  Fwd Seg Size Avg   float64\n",
      " 61  Bwd Seg Size Avg   float64\n",
      " 62  Subflow Fwd Pkts   int64  \n",
      " 63  Subflow Fwd Byts   int64  \n",
      " 64  Subflow Bwd Pkts   int64  \n",
      " 65  Subflow Bwd Byts   int64  \n",
      " 66  Init Fwd Win Byts  int64  \n",
      " 67  Init Bwd Win Byts  int64  \n",
      " 68  Fwd Act Data Pkts  int64  \n",
      " 69  Fwd Seg Size Min   int64  \n",
      " 70  Active Mean        float64\n",
      " 71  Active Std         float64\n",
      " 72  Active Max         float64\n",
      " 73  Active Min         float64\n",
      " 74  Idle Mean          float64\n",
      " 75  Idle Std           float64\n",
      " 76  Idle Max           float64\n",
      " 77  Idle Min           float64\n",
      " 78  Label              object \n",
      "dtypes: float64(45), int64(29), object(5)\n",
      "memory usage: 4.5+ GB\n",
      "None\n"
     ]
    }
   ],
   "source": [
    "from pandas import concat\n",
    "print(df.info())"
   ]
  },
  {
   "cell_type": "code",
   "execution_count": 44,
   "metadata": {},
   "outputs": [
    {
     "name": "stdout",
     "output_type": "stream",
     "text": [
      "Memory usage of dataframe is 4939.30 MB\n"
     ]
    }
   ],
   "source": [
    "mb = df.memory_usage().sum() / 1024**2\n",
    "print('Memory usage of dataframe is {:.2f} MB'.format(mb))"
   ]
  },
  {
   "cell_type": "code",
   "execution_count": 45,
   "metadata": {},
   "outputs": [
    {
     "data": {
      "text/plain": [
       "8658"
      ]
     },
     "execution_count": 45,
     "metadata": {},
     "output_type": "execute_result"
    }
   ],
   "source": [
    "import gc\n",
    "import numpy as np\n",
    "colsToDrop = np.array(['Fwd Byts/b Avg', 'Fwd Pkts/b Avg', 'Fwd Blk Rate Avg', 'Bwd Byts/b Avg', 'Bwd Pkts/b Avg', 'Bwd Blk Rate Avg'])\n",
    "gc.collect()"
   ]
  },
  {
   "cell_type": "code",
   "execution_count": 46,
   "metadata": {},
   "outputs": [],
   "source": [
    "import pandas as pd\n",
    "from sklearn import preprocessing"
   ]
  },
  {
   "cell_type": "code",
   "execution_count": 47,
   "metadata": {},
   "outputs": [
    {
     "data": {
      "text/plain": [
       "0"
      ]
     },
     "execution_count": 47,
     "metadata": {},
     "output_type": "execute_result"
    }
   ],
   "source": [
    "# counting unique values and checking for skewness in the data\n",
    "rowbuilder = lambda col: {'col': col, 'unique_values': df[col].nunique(), 'most_frequent_value': df[col].value_counts().index[0],'frequency': df[col].value_counts(normalize=True).values[0]}\n",
    "frequency = [rowbuilder(col) for col in df.select_dtypes(include=['category']).columns]\n",
    "skewed = pd.DataFrame(frequency)\n",
    "colsToDrop\n",
    "del skewed\n",
    "del rowbuilder\n",
    "del frequency\n",
    "gc.collect()"
   ]
  },
  {
   "cell_type": "code",
   "execution_count": 48,
   "metadata": {},
   "outputs": [],
   "source": [
    "missing = df.isna().sum()\n",
    "missing = pd.DataFrame({'count': missing, '% of total': missing/len(df)*100}, index=df.columns)\n",
    "colsToDrop = np.union1d(colsToDrop, missing[missing['% of total'] >= 50].index.values)\n",
    "dropnaCols = missing[(missing['% of total'] > 0) & (missing['% of total'] <= 5)].index.values"
   ]
  },
  {
   "cell_type": "code",
   "execution_count": 49,
   "metadata": {},
   "outputs": [],
   "source": [
    "df['Flow Byts/s'].replace(np.inf, np.nan, inplace=True)\n",
    "df['Flow Pkts/s'].replace(np.inf, np.nan, inplace=True)\n",
    "dropnaCols = np.union1d(dropnaCols, ['Flow Byts/s', 'Flow Pkts/s'])"
   ]
  },
  {
   "cell_type": "code",
   "execution_count": 50,
   "metadata": {},
   "outputs": [
    {
     "data": {
      "text/plain": [
       "array(['Bwd Blk Rate Avg', 'Bwd Byts/b Avg', 'Bwd Pkts/b Avg',\n",
       "       'Fwd Blk Rate Avg', 'Fwd Byts/b Avg', 'Fwd Pkts/b Avg'],\n",
       "      dtype=object)"
      ]
     },
     "execution_count": 50,
     "metadata": {},
     "output_type": "execute_result"
    }
   ],
   "source": [
    "colsToDrop\n"
   ]
  },
  {
   "cell_type": "code",
   "execution_count": 51,
   "metadata": {},
   "outputs": [
    {
     "data": {
      "text/plain": [
       "101"
      ]
     },
     "execution_count": 51,
     "metadata": {},
     "output_type": "execute_result"
    }
   ],
   "source": [
    "df.drop(columns=colsToDrop, inplace=True)\n",
    "df.dropna(subset=dropnaCols, inplace=True)\n",
    "gc.collect()"
   ]
  },
  {
   "cell_type": "code",
   "execution_count": 52,
   "metadata": {},
   "outputs": [],
   "source": [
    "negValCols = ['Flow Pkts/s', 'Flow IAT Mean', 'Flow IAT Max', 'Flow IAT Min', 'Bwd IAT Tot', 'Bwd IAT Mean', 'Bwd IAT Max', 'Bwd IAT Min']\n",
    "for col in negValCols:\n",
    "    df = df[df[col] >= 0]"
   ]
  },
  {
   "cell_type": "code",
   "execution_count": 53,
   "metadata": {},
   "outputs": [
    {
     "name": "stdout",
     "output_type": "stream",
     "text": [
      "Memory usage of dataframe is 4619.35 MB\n"
     ]
    }
   ],
   "source": [
    "mb = df.memory_usage().sum() / 1024**2\n",
    "print('Memory usage of dataframe is {:.2f} MB'.format(mb))"
   ]
  },
  {
   "cell_type": "code",
   "execution_count": 67,
   "metadata": {},
   "outputs": [
    {
     "data": {
      "text/plain": [
       "<bound method DataFrame.info of          Unnamed: 0                                   Flow ID          Src IP  \\\n",
       "1294529     1445871       172.31.0.2-172.31.66.76-53-55330-17    172.31.66.76   \n",
       "1294530      283411   172.217.9.228-192.168.10.15-443-53799-6   192.168.10.15   \n",
       "1294531     6626404  129.158.72.21-172.31.66.121-56889-3389-6   129.158.72.21   \n",
       "1294532     6314547    172.31.65.117-23.218.55.94-51263-443-6   172.31.65.117   \n",
       "1294533     7887478    172.31.67.95-94.25.169.113-445-35818-6   94.25.169.113   \n",
       "...             ...                                       ...             ...   \n",
       "7616504     1725894    172.31.67.50-209.85.203.113-53598-80-6  209.85.203.113   \n",
       "7616505     5681778    172.31.69.17-108.174.10.14-54599-443-6    172.31.69.17   \n",
       "7616506     6395326       172.31.0.2-172.31.65.49-53-61087-17    172.31.65.49   \n",
       "7616507     4926899       172.31.0.2-172.31.67.58-53-61580-17    172.31.67.58   \n",
       "7616508     7656685   169.254.169.254-172.31.65.89-80-49393-6    172.31.65.89   \n",
       "\n",
       "         Src Port           Dst IP  Dst Port  Protocol  \\\n",
       "1294529     55330       172.31.0.2        53        17   \n",
       "1294530     53799    172.217.9.228       443         6   \n",
       "1294531     56889    172.31.66.121      3389         6   \n",
       "1294532     51263     23.218.55.94       443         6   \n",
       "1294533     35818     172.31.67.95       445         6   \n",
       "...           ...              ...       ...       ...   \n",
       "7616504        80     172.31.67.50     53598         6   \n",
       "7616505     54599    108.174.10.14       443         6   \n",
       "7616506     61087       172.31.0.2        53        17   \n",
       "7616507     61580       172.31.0.2        53        17   \n",
       "7616508     49393  169.254.169.254        80         6   \n",
       "\n",
       "                      Timestamp  Flow Duration  Tot Fwd Pkts  ...  \\\n",
       "1294529     20/02/2018 10:36:27          22123             2  ...   \n",
       "1294530  04/07/2017 12:15:36 AM        3095495             4  ...   \n",
       "1294531     20/02/2018 08:55:58        1127340             8  ...   \n",
       "1294532     20/02/2018 11:53:46      105120546            16  ...   \n",
       "1294533     20/02/2018 10:06:32        1088596             6  ...   \n",
       "...                         ...            ...           ...  ...   \n",
       "7616504     20/02/2018 05:14:52             50             1  ...   \n",
       "7616505     20/02/2018 03:08:35            306             3  ...   \n",
       "7616506     20/02/2018 01:03:19            362             1  ...   \n",
       "7616507     20/02/2018 12:43:11            303             1  ...   \n",
       "7616508     20/02/2018 09:55:40             54             2  ...   \n",
       "\n",
       "         Fwd Seg Size Min    Active Mean    Active Std  Active Max  \\\n",
       "1294529                 8       0.000000      0.000000         0.0   \n",
       "1294530                 0       0.000000      0.000000         0.0   \n",
       "1294531                20       0.000000      0.000000         0.0   \n",
       "1294532                20  137708.714286  11188.587008    158091.0   \n",
       "1294533                20       0.000000      0.000000         0.0   \n",
       "...                   ...            ...           ...         ...   \n",
       "7616504                20       0.000000      0.000000         0.0   \n",
       "7616505                20       0.000000      0.000000         0.0   \n",
       "7616506                 8       0.000000      0.000000         0.0   \n",
       "7616507                 8       0.000000      0.000000         0.0   \n",
       "7616508                20       0.000000      0.000000         0.0   \n",
       "\n",
       "         Active Min     Idle Mean      Idle Std    Idle Max    Idle Min  \\\n",
       "1294529         0.0  0.000000e+00      0.000000         0.0         0.0   \n",
       "1294530         0.0  0.000000e+00      0.000000         0.0         0.0   \n",
       "1294531         0.0  0.000000e+00      0.000000         0.0         0.0   \n",
       "1294532    126951.0  1.486128e+07  31810.084689  14914967.0  14824695.0   \n",
       "1294533         0.0  0.000000e+00      0.000000         0.0         0.0   \n",
       "...             ...           ...           ...         ...         ...   \n",
       "7616504         0.0  0.000000e+00      0.000000         0.0         0.0   \n",
       "7616505         0.0  0.000000e+00      0.000000         0.0         0.0   \n",
       "7616506         0.0  0.000000e+00      0.000000         0.0         0.0   \n",
       "7616507         0.0  0.000000e+00      0.000000         0.0         0.0   \n",
       "7616508         0.0  0.000000e+00      0.000000         0.0         0.0   \n",
       "\n",
       "          Label  \n",
       "1294529  Benign  \n",
       "1294530  Benign  \n",
       "1294531  Benign  \n",
       "1294532  Benign  \n",
       "1294533  Benign  \n",
       "...         ...  \n",
       "7616504  Benign  \n",
       "7616505  Benign  \n",
       "7616506  Benign  \n",
       "7616507  Benign  \n",
       "7616508  Benign  \n",
       "\n",
       "[6273823 rows x 79 columns]>"
      ]
     },
     "execution_count": 67,
     "metadata": {},
     "output_type": "execute_result"
    }
   ],
   "source": [
    "df['Label'].value_counts()\n",
    "#df_B = df.loc[df.Label == \"Benign\"]\n",
    "df_B.info"
   ]
  },
  {
   "cell_type": "code",
   "execution_count": 68,
   "metadata": {},
   "outputs": [
    {
     "data": {
      "text/plain": [
       "<bound method DataFrame.info of          Unnamed: 0                                 Flow ID          Src IP  \\\n",
       "0           1739476   172.31.69.25-18.219.193.20-80-37882-6   18.219.193.20   \n",
       "1           1822666      172.31.69.28-18.219.9.1-80-63287-6    172.31.69.28   \n",
       "2            905739   172.31.69.28-52.14.136.135-80-63095-6   52.14.136.135   \n",
       "3           1143064  172.31.69.28-18.216.200.189-80-52341-6  18.216.200.189   \n",
       "4           1934016   172.31.69.28-18.218.55.126-80-57459-6    172.31.69.28   \n",
       "...             ...                                     ...             ...   \n",
       "1294524     1375925   172.31.69.25-18.219.193.20-80-46098-6   18.219.193.20   \n",
       "1294525      467036   172.31.69.25-18.219.193.20-80-37126-6   18.219.193.20   \n",
       "1294526     1535528   172.31.69.28-18.218.55.126-80-50384-6    172.31.69.28   \n",
       "1294527     1830374   172.31.69.28-18.218.55.126-80-63497-6    172.31.69.28   \n",
       "1294528     1383974    172.31.69.28-18.219.32.43-80-52066-6    172.31.69.28   \n",
       "\n",
       "         Src Port         Dst IP  Dst Port  Protocol               Timestamp  \\\n",
       "0           37882   172.31.69.25        80         6  16/02/2018 11:27:29 PM   \n",
       "1              80     18.219.9.1     63287         6  22/02/2018 12:13:52 AM   \n",
       "2           63095   172.31.69.28        80         6  22/02/2018 12:14:02 AM   \n",
       "3           52341   172.31.69.28        80         6  22/02/2018 12:28:04 AM   \n",
       "4              80  18.218.55.126     57459         6  22/02/2018 12:19:45 AM   \n",
       "...           ...            ...       ...       ...                     ...   \n",
       "1294524     46098   172.31.69.25        80         6  16/02/2018 11:24:40 PM   \n",
       "1294525     37126   172.31.69.25        80         6  16/02/2018 11:17:59 PM   \n",
       "1294526        80  18.218.55.126     50384         6  22/02/2018 12:00:05 AM   \n",
       "1294527        80  18.218.55.126     63497         6  22/02/2018 12:14:15 AM   \n",
       "1294528        80   18.219.32.43     52066         6  21/02/2018 11:53:39 PM   \n",
       "\n",
       "         Flow Duration  Tot Fwd Pkts  ...  Fwd Seg Size Min  Active Mean  \\\n",
       "0                 8660             1  ...                 0          0.0   \n",
       "1                 5829             4  ...                 0          0.0   \n",
       "2                 3396             1  ...                 0          0.0   \n",
       "3                 2390             1  ...                 0          0.0   \n",
       "4                17362             4  ...                 0          0.0   \n",
       "...                ...           ...  ...               ...          ...   \n",
       "1294524        4358321             4  ...                 0          0.0   \n",
       "1294525           1547             1  ...                 0          0.0   \n",
       "1294526           3118             4  ...                 0          0.0   \n",
       "1294527          79055             4  ...                 0          0.0   \n",
       "1294528           1222             4  ...                 0          0.0   \n",
       "\n",
       "         Active Std  Active Max  Active Min  Idle Mean  Idle Std  Idle Max  \\\n",
       "0               0.0         0.0         0.0        0.0       0.0       0.0   \n",
       "1               0.0         0.0         0.0        0.0       0.0       0.0   \n",
       "2               0.0         0.0         0.0        0.0       0.0       0.0   \n",
       "3               0.0         0.0         0.0        0.0       0.0       0.0   \n",
       "4               0.0         0.0         0.0        0.0       0.0       0.0   \n",
       "...             ...         ...         ...        ...       ...       ...   \n",
       "1294524         0.0         0.0         0.0        0.0       0.0       0.0   \n",
       "1294525         0.0         0.0         0.0        0.0       0.0       0.0   \n",
       "1294526         0.0         0.0         0.0        0.0       0.0       0.0   \n",
       "1294527         0.0         0.0         0.0        0.0       0.0       0.0   \n",
       "1294528         0.0         0.0         0.0        0.0       0.0       0.0   \n",
       "\n",
       "         Idle Min  Label  \n",
       "0             0.0   ddos  \n",
       "1             0.0   ddos  \n",
       "2             0.0   ddos  \n",
       "3             0.0   ddos  \n",
       "4             0.0   ddos  \n",
       "...           ...    ...  \n",
       "1294524       0.0   ddos  \n",
       "1294525       0.0   ddos  \n",
       "1294526       0.0   ddos  \n",
       "1294527       0.0   ddos  \n",
       "1294528       0.0   ddos  \n",
       "\n",
       "[1294524 rows x 79 columns]>"
      ]
     },
     "execution_count": 68,
     "metadata": {},
     "output_type": "execute_result"
    }
   ],
   "source": [
    "#df_Dd = df.loc[df.Label == \"ddos\"]\n",
    "df_Dd.info"
   ]
  },
  {
   "cell_type": "code",
   "execution_count": 80,
   "metadata": {},
   "outputs": [],
   "source": [
    "#first_s1 = df_B.sample(300000, random_state=10)\n",
    "#first_s2= df_Dd.sample(300000, random_state=10)\n",
    "#first_s = pd.concat([first_s1,first_s2])\n",
    "first_s.describe\n",
    "first_s.to_csv('first_split.csv')"
   ]
  },
  {
   "cell_type": "code",
   "execution_count": 81,
   "metadata": {},
   "outputs": [],
   "source": [
    "#second_s1 = df_B.sample(300000, random_state=30)\n",
    "#second_s2= df_Dd.sample(300000, random_state=30)\n",
    "#second_s = pd.concat([second_s1,second_s2])\n",
    "second_s.describe\n",
    "second_s.to_csv('second_split.csv')"
   ]
  },
  {
   "cell_type": "code",
   "execution_count": 82,
   "metadata": {},
   "outputs": [],
   "source": [
    "#third_s1 = df_B.sample(300000, random_state=40)\n",
    "#third_s2= df_Dd.sample(300000, random_state=40)\n",
    "#third_s = pd.concat([third_s1,third_s2])\n",
    "third_s.describe\n",
    "third_s.to_csv('third_split.csv')"
   ]
  },
  {
   "cell_type": "code",
   "execution_count": 83,
   "metadata": {},
   "outputs": [],
   "source": [
    "#fourth_s1 = df_B.sample(300000, random_state=50)\n",
    "#fourth_s2= df_Dd.sample(300000, random_state=50)\n",
    "#fourth_s = pd.concat([fourth_s1,fourth_s2])\n",
    "fourth_s.describe\n",
    "fourth_s.to_csv('fourth_split.csv')"
   ]
  },
  {
   "cell_type": "code",
   "execution_count": 4,
   "metadata": {},
   "outputs": [],
   "source": [
    "data = pd.read_csv(\"second_split.csv\")"
   ]
  },
  {
   "cell_type": "code",
   "execution_count": 6,
   "metadata": {},
   "outputs": [],
   "source": [
    "df = shuffle(data)"
   ]
  },
  {
   "cell_type": "code",
   "execution_count": 7,
   "metadata": {},
   "outputs": [],
   "source": [
    "df.to_csv('shuffled_data.csv')"
   ]
  },
  {
   "cell_type": "code",
   "execution_count": 9,
   "metadata": {},
   "outputs": [],
   "source": [
    "data_s = pd.read_csv(\"shuffled_data.csv\")"
   ]
  },
  {
   "cell_type": "code",
   "execution_count": 13,
   "metadata": {},
   "outputs": [
    {
     "data": {
      "text/plain": [
       "Index(['Unnamed: 0', 'Unnamed: 0.1', 'Unnamed: 0.1.1', 'Flow ID', 'Src IP',\n",
       "       'Src Port', 'Dst IP', 'Dst Port', 'Protocol', 'Timestamp',\n",
       "       'Flow Duration', 'Tot Fwd Pkts', 'Tot Bwd Pkts', 'TotLen Fwd Pkts',\n",
       "       'TotLen Bwd Pkts', 'Fwd Pkt Len Max', 'Fwd Pkt Len Min',\n",
       "       'Fwd Pkt Len Mean', 'Fwd Pkt Len Std', 'Bwd Pkt Len Max',\n",
       "       'Bwd Pkt Len Min', 'Bwd Pkt Len Mean', 'Bwd Pkt Len Std', 'Flow Byts/s',\n",
       "       'Flow Pkts/s', 'Flow IAT Mean', 'Flow IAT Std', 'Flow IAT Max',\n",
       "       'Flow IAT Min', 'Fwd IAT Tot', 'Fwd IAT Mean', 'Fwd IAT Std',\n",
       "       'Fwd IAT Max', 'Fwd IAT Min', 'Bwd IAT Tot', 'Bwd IAT Mean',\n",
       "       'Bwd IAT Std', 'Bwd IAT Max', 'Bwd IAT Min', 'Fwd Header Len',\n",
       "       'Bwd Header Len', 'Fwd Pkts/s', 'Bwd Pkts/s', 'Pkt Len Min',\n",
       "       'Pkt Len Max', 'Pkt Len Mean', 'Pkt Len Std', 'Pkt Len Var',\n",
       "       'Pkt Size Avg', 'Fwd Seg Size Avg', 'Bwd Seg Size Avg',\n",
       "       'Subflow Fwd Pkts', 'Subflow Fwd Byts', 'Subflow Bwd Pkts',\n",
       "       'Subflow Bwd Byts', 'Init Fwd Win Byts', 'Init Bwd Win Byts',\n",
       "       'Fwd Act Data Pkts', 'Fwd Seg Size Min', 'Label'],\n",
       "      dtype='object')"
      ]
     },
     "execution_count": 13,
     "metadata": {},
     "output_type": "execute_result"
    }
   ],
   "source": [
    "data_s.columns"
   ]
  },
  {
   "cell_type": "code",
   "execution_count": 14,
   "metadata": {},
   "outputs": [],
   "source": [
    "y=df['Label']"
   ]
  },
  {
   "cell_type": "code",
   "execution_count": 15,
   "metadata": {},
   "outputs": [],
   "source": [
    "#y=y.replace(to_replace=['ddos', 'Benign'], value=[0, 1])"
   ]
  },
  {
   "cell_type": "code",
   "execution_count": 16,
   "metadata": {},
   "outputs": [],
   "source": [
    "del df['Label']\n",
    "del df['Unnamed: 0']\n",
    "#label encoding for object types\n",
    "#le = preprocessing.LabelEncoder()\n",
    "#df['Flow ID','Src IP','Dst IP','Timestamp'] = le.fit_transfrom(df[['Flow ID','Src IP','Dst IP','Timestamp'].astype(str)])"
   ]
  },
  {
   "cell_type": "code",
   "execution_count": 17,
   "metadata": {},
   "outputs": [],
   "source": [
    "#label encoding for object types\n",
    "le = preprocessing.LabelEncoder()\n",
    "#df['Flow ID','Src IP','Dst IP','Timestamp'] = le.fit_transform(df['Flow ID','Src IP','Dst IP','Timestamp'].astype(str))\n",
    "df['Flow ID'] = le.fit_transform(df['Flow ID'].astype(str))\n",
    "df['Src IP'] = le.fit_transform(df['Src IP'].astype(str))\n",
    "df['Dst IP'] = le.fit_transform(df['Dst IP'].astype(str))\n",
    "df['Timestamp'] = le.fit_transform(df['Timestamp'].astype(str))\n",
    "y = le.fit_transform(y.astype(str))"
   ]
  },
  {
   "cell_type": "code",
   "execution_count": 18,
   "metadata": {},
   "outputs": [
    {
     "name": "stdout",
     "output_type": "stream",
     "text": [
      "<class 'pandas.core.frame.DataFrame'>\n",
      "Int64Index: 2978 entries, 0 to 2999\n",
      "Data columns (total 77 columns):\n",
      " #   Column             Non-Null Count  Dtype  \n",
      "---  ------             --------------  -----  \n",
      " 0   Flow ID            2978 non-null   int64  \n",
      " 1   Src IP             2978 non-null   int64  \n",
      " 2   Src Port           2978 non-null   int64  \n",
      " 3   Dst IP             2978 non-null   int64  \n",
      " 4   Dst Port           2978 non-null   int64  \n",
      " 5   Protocol           2978 non-null   int64  \n",
      " 6   Timestamp          2978 non-null   int64  \n",
      " 7   Flow Duration      2978 non-null   int64  \n",
      " 8   Tot Fwd Pkts       2978 non-null   int64  \n",
      " 9   Tot Bwd Pkts       2978 non-null   int64  \n",
      " 10  TotLen Fwd Pkts    2978 non-null   float64\n",
      " 11  TotLen Bwd Pkts    2978 non-null   float64\n",
      " 12  Fwd Pkt Len Max    2978 non-null   float64\n",
      " 13  Fwd Pkt Len Min    2978 non-null   float64\n",
      " 14  Fwd Pkt Len Mean   2978 non-null   float64\n",
      " 15  Fwd Pkt Len Std    2978 non-null   float64\n",
      " 16  Bwd Pkt Len Max    2978 non-null   float64\n",
      " 17  Bwd Pkt Len Min    2978 non-null   float64\n",
      " 18  Bwd Pkt Len Mean   2978 non-null   float64\n",
      " 19  Bwd Pkt Len Std    2978 non-null   float64\n",
      " 20  Flow Byts/s        2978 non-null   float64\n",
      " 21  Flow Pkts/s        2978 non-null   float64\n",
      " 22  Flow IAT Mean      2978 non-null   float64\n",
      " 23  Flow IAT Std       2978 non-null   float64\n",
      " 24  Flow IAT Max       2978 non-null   float64\n",
      " 25  Flow IAT Min       2978 non-null   float64\n",
      " 26  Fwd IAT Tot        2978 non-null   float64\n",
      " 27  Fwd IAT Mean       2978 non-null   float64\n",
      " 28  Fwd IAT Std        2978 non-null   float64\n",
      " 29  Fwd IAT Max        2978 non-null   float64\n",
      " 30  Fwd IAT Min        2978 non-null   float64\n",
      " 31  Bwd IAT Tot        2978 non-null   float64\n",
      " 32  Bwd IAT Mean       2978 non-null   float64\n",
      " 33  Bwd IAT Std        2978 non-null   float64\n",
      " 34  Bwd IAT Max        2978 non-null   float64\n",
      " 35  Bwd IAT Min        2978 non-null   float64\n",
      " 36  Fwd PSH Flags      2978 non-null   int64  \n",
      " 37  Bwd PSH Flags      2978 non-null   int64  \n",
      " 38  Fwd URG Flags      2978 non-null   int64  \n",
      " 39  Bwd URG Flags      2978 non-null   int64  \n",
      " 40  Fwd Header Len     2978 non-null   int64  \n",
      " 41  Bwd Header Len     2978 non-null   int64  \n",
      " 42  Fwd Pkts/s         2978 non-null   float64\n",
      " 43  Bwd Pkts/s         2978 non-null   float64\n",
      " 44  Pkt Len Min        2978 non-null   float64\n",
      " 45  Pkt Len Max        2978 non-null   float64\n",
      " 46  Pkt Len Mean       2978 non-null   float64\n",
      " 47  Pkt Len Std        2978 non-null   float64\n",
      " 48  Pkt Len Var        2978 non-null   float64\n",
      " 49  FIN Flag Cnt       2978 non-null   int64  \n",
      " 50  SYN Flag Cnt       2978 non-null   int64  \n",
      " 51  RST Flag Cnt       2978 non-null   int64  \n",
      " 52  PSH Flag Cnt       2978 non-null   int64  \n",
      " 53  ACK Flag Cnt       2978 non-null   int64  \n",
      " 54  URG Flag Cnt       2978 non-null   int64  \n",
      " 55  CWE Flag Count     2978 non-null   int64  \n",
      " 56  ECE Flag Cnt       2978 non-null   int64  \n",
      " 57  Down/Up Ratio      2978 non-null   float64\n",
      " 58  Pkt Size Avg       2978 non-null   float64\n",
      " 59  Fwd Seg Size Avg   2978 non-null   float64\n",
      " 60  Bwd Seg Size Avg   2978 non-null   float64\n",
      " 61  Subflow Fwd Pkts   2978 non-null   int64  \n",
      " 62  Subflow Fwd Byts   2978 non-null   int64  \n",
      " 63  Subflow Bwd Pkts   2978 non-null   int64  \n",
      " 64  Subflow Bwd Byts   2978 non-null   int64  \n",
      " 65  Init Fwd Win Byts  2978 non-null   int64  \n",
      " 66  Init Bwd Win Byts  2978 non-null   int64  \n",
      " 67  Fwd Act Data Pkts  2978 non-null   int64  \n",
      " 68  Fwd Seg Size Min   2978 non-null   int64  \n",
      " 69  Active Mean        2978 non-null   float64\n",
      " 70  Active Std         2978 non-null   float64\n",
      " 71  Active Max         2978 non-null   float64\n",
      " 72  Active Min         2978 non-null   float64\n",
      " 73  Idle Mean          2978 non-null   float64\n",
      " 74  Idle Std           2978 non-null   float64\n",
      " 75  Idle Max           2978 non-null   float64\n",
      " 76  Idle Min           2978 non-null   float64\n",
      "dtypes: float64(45), int64(32)\n",
      "memory usage: 1.8 MB\n"
     ]
    }
   ],
   "source": [
    "df.info()"
   ]
  },
  {
   "cell_type": "code",
   "execution_count": 19,
   "metadata": {},
   "outputs": [],
   "source": [
    "from sklearn.preprocessing import OneHotEncoder\n",
    "from sklearn.preprocessing import OrdinalEncoder\n",
    "import numpy as np"
   ]
  },
  {
   "cell_type": "code",
   "execution_count": 20,
   "metadata": {},
   "outputs": [],
   "source": [
    "#df['Flow Byts/s'].replace(np.inf, np.nan, inplace=True)\n",
    "#df['Flow Pkts/s'].replace(np.inf, np.nan, inplace=True)\n",
    "#dropnaCols = np.union1d(dropnaCols, ['Flow Byts/s', 'Flow Pkts/s'])"
   ]
  },
  {
   "cell_type": "code",
   "execution_count": 21,
   "metadata": {},
   "outputs": [],
   "source": [
    "#df = df.applymap(str)\n",
    "#encoder = OrdinalEncoder()\n",
    "# transform data\n",
    "#result = encoder.fit_transform(df)\n",
    "#print(result)"
   ]
  },
  {
   "cell_type": "code",
   "execution_count": 22,
   "metadata": {},
   "outputs": [],
   "source": [
    "from sklearn.preprocessing import StandardScaler\n",
    "sc=StandardScaler()\n",
    "X_scaled_data = sc.fit_transform(df)"
   ]
  },
  {
   "cell_type": "code",
   "execution_count": 23,
   "metadata": {},
   "outputs": [],
   "source": [
    "from sklearn.model_selection import train_test_split\n",
    "#Train test split\n",
    "X_train, X_test, y_train, y_test = train_test_split(X_scaled_data, y,test_size = 0.3, random_state=69)   #scale the test data as well\n",
    "#Train Validation split\n",
    "X_train, X_val, y_train, y_val = train_test_split(X_train, y_train, test_size=0.3, random_state=69)"
   ]
  },
  {
   "cell_type": "code",
   "execution_count": 259,
   "metadata": {},
   "outputs": [
    {
     "name": "stdout",
     "output_type": "stream",
     "text": [
      "(2434, 77)\n",
      "(1491, 77)\n",
      "(2434,)\n",
      "(1491,)\n",
      "(1044, 77)\n",
      "(1044,)\n"
     ]
    }
   ],
   "source": [
    "print(X_train.shape)\n",
    "print(X_test.shape)\n",
    "print(y_train.shape)\n",
    "print(y_test.shape)\n",
    "print(X_val.shape)\n",
    "print(y_val.shape)"
   ]
  },
  {
   "cell_type": "code",
   "execution_count": 260,
   "metadata": {},
   "outputs": [
    {
     "name": "stdout",
     "output_type": "stream",
     "text": [
      "(4969, 77)\n",
      "(4969,)\n"
     ]
    }
   ],
   "source": [
    "print(X_scaled_data.shape)\n",
    "print(y.shape)"
   ]
  },
  {
   "cell_type": "code",
   "execution_count": 24,
   "metadata": {},
   "outputs": [],
   "source": [
    "from sklearn.preprocessing import LabelEncoder\n",
    "from tensorflow.keras.models import Sequential\n",
    "from tensorflow.keras.layers import Dense\n",
    "from tensorflow.keras.layers import Dropout\n",
    "from tensorflow.keras.layers import LSTM\n",
    "from tensorflow.keras.layers import Bidirectional"
   ]
  },
  {
   "cell_type": "code",
   "execution_count": 25,
   "metadata": {},
   "outputs": [
    {
     "name": "stdout",
     "output_type": "stream",
     "text": [
      "Model: \"sequential\"\n",
      "_________________________________________________________________\n",
      "Layer (type)                 Output Shape              Param #   \n",
      "=================================================================\n",
      "dense (Dense)                (None, 300)               23400     \n",
      "_________________________________________________________________\n",
      "dropout (Dropout)            (None, 300)               0         \n",
      "_________________________________________________________________\n",
      "dense_1 (Dense)              (None, 150)               45150     \n",
      "_________________________________________________________________\n",
      "dropout_1 (Dropout)          (None, 150)               0         \n",
      "_________________________________________________________________\n",
      "dense_2 (Dense)              (None, 1)                 151       \n",
      "=================================================================\n",
      "Total params: 68,701\n",
      "Trainable params: 68,701\n",
      "Non-trainable params: 0\n",
      "_________________________________________________________________\n"
     ]
    }
   ],
   "source": [
    "model = Sequential()\n",
    "model.add(Dense(300, input_dim=77, activation='relu'))\n",
    "model.add(Dropout(0.2))\n",
    "#model.add(Dense(150, activation='softmax'))\n",
    "#model.add(Dropout(0.2))\n",
    "model.add(Dense(150, activation='tanh'))\n",
    "model.add(Dropout(0.2))\n",
    "model.add(Dense(1, activation='sigmoid'))\n",
    "model.summary()"
   ]
  },
  {
   "cell_type": "code",
   "execution_count": 36,
   "metadata": {},
   "outputs": [],
   "source": [
    "from keras.utils import np_utils\n",
    "from tensorflow.keras import optimizers\n",
    "from sklearn.metrics import mean_absolute_error, accuracy_score\n",
    "from sklearn.utils.multiclass import unique_labels\n",
    "from sklearn.metrics import confusion_matrix\n",
    "from sklearn.metrics import classification_report\n",
    "from sklearn.metrics import roc_curve, auc\n",
    "from sklearn.metrics import precision_recall_curve\n",
    "import matplotlib.pyplot as plt"
   ]
  },
  {
   "cell_type": "code",
   "execution_count": 29,
   "metadata": {},
   "outputs": [
    {
     "name": "stdout",
     "output_type": "stream",
     "text": [
      "Epoch 1/20\n",
      "46/46 [==============================] - 1s 6ms/step - loss: 0.0109 - accuracy: 0.9983 - val_loss: 0.0219 - val_accuracy: 0.9968\n",
      "Epoch 2/20\n",
      "46/46 [==============================] - 0s 4ms/step - loss: 0.0099 - accuracy: 0.9967 - val_loss: 0.0213 - val_accuracy: 0.9968\n",
      "Epoch 3/20\n",
      "46/46 [==============================] - 0s 4ms/step - loss: 0.0068 - accuracy: 0.9977 - val_loss: 0.0176 - val_accuracy: 0.9984\n",
      "Epoch 4/20\n",
      "46/46 [==============================] - 0s 4ms/step - loss: 0.0051 - accuracy: 0.9976 - val_loss: 0.0198 - val_accuracy: 0.9968\n",
      "Epoch 5/20\n",
      "46/46 [==============================] - 0s 5ms/step - loss: 0.0096 - accuracy: 0.9957 - val_loss: 0.0204 - val_accuracy: 0.9968\n",
      "Epoch 6/20\n",
      "46/46 [==============================] - 0s 4ms/step - loss: 0.0112 - accuracy: 0.9958 - val_loss: 0.0840 - val_accuracy: 0.9617\n",
      "Epoch 7/20\n",
      "46/46 [==============================] - 0s 4ms/step - loss: 0.0157 - accuracy: 0.9935 - val_loss: 0.0203 - val_accuracy: 0.9968\n",
      "Epoch 8/20\n",
      "46/46 [==============================] - 0s 3ms/step - loss: 0.0090 - accuracy: 0.9974 - val_loss: 0.0202 - val_accuracy: 0.9968\n",
      "Epoch 9/20\n",
      "46/46 [==============================] - 0s 4ms/step - loss: 0.0128 - accuracy: 0.9960 - val_loss: 0.0215 - val_accuracy: 0.9968\n",
      "Epoch 10/20\n",
      "46/46 [==============================] - 0s 3ms/step - loss: 0.0040 - accuracy: 0.9980 - val_loss: 0.0259 - val_accuracy: 0.9968\n",
      "Epoch 11/20\n",
      "46/46 [==============================] - 0s 4ms/step - loss: 0.0071 - accuracy: 0.9974 - val_loss: 0.0232 - val_accuracy: 0.9968\n",
      "Epoch 12/20\n",
      "46/46 [==============================] - 0s 4ms/step - loss: 0.0061 - accuracy: 0.9973 - val_loss: 0.0258 - val_accuracy: 0.9952\n",
      "Epoch 13/20\n",
      "46/46 [==============================] - 0s 4ms/step - loss: 0.0077 - accuracy: 0.9980 - val_loss: 0.0226 - val_accuracy: 0.9968\n",
      "Epoch 14/20\n",
      "46/46 [==============================] - 0s 8ms/step - loss: 0.0031 - accuracy: 0.9994 - val_loss: 0.0224 - val_accuracy: 0.9968\n",
      "Epoch 15/20\n",
      "46/46 [==============================] - 0s 5ms/step - loss: 0.0043 - accuracy: 0.9992 - val_loss: 0.0192 - val_accuracy: 0.9968\n",
      "Epoch 16/20\n",
      "46/46 [==============================] - 0s 4ms/step - loss: 0.0010 - accuracy: 0.9996 - val_loss: 0.0186 - val_accuracy: 0.9968\n",
      "Epoch 17/20\n",
      "46/46 [==============================] - 0s 4ms/step - loss: 0.0059 - accuracy: 0.9987 - val_loss: 0.0200 - val_accuracy: 0.9952\n",
      "Epoch 18/20\n",
      "46/46 [==============================] - 0s 4ms/step - loss: 0.0132 - accuracy: 0.9973 - val_loss: 0.0231 - val_accuracy: 0.9952\n",
      "Epoch 19/20\n",
      "46/46 [==============================] - 0s 4ms/step - loss: 0.0169 - accuracy: 0.9938 - val_loss: 0.0184 - val_accuracy: 0.9968\n",
      "Epoch 20/20\n",
      "46/46 [==============================] - 0s 5ms/step - loss: 0.0034 - accuracy: 0.9976 - val_loss: 0.0285 - val_accuracy: 0.9952\n"
     ]
    }
   ],
   "source": [
    "model.compile(loss='binary_crossentropy',\n",
    "              optimizer=optimizers.RMSprop(lr=0.002),\n",
    "              metrics=['accuracy'])\n",
    "hist=model.fit(X_train, y_train, epochs=20, validation_data=(X_val, y_val),verbose=1)"
   ]
  },
  {
   "cell_type": "code",
   "execution_count": 292,
   "metadata": {},
   "outputs": [
    {
     "data": {
      "text/plain": [
       "dict_keys(['loss', 'accuracy', 'val_loss', 'val_accuracy'])"
      ]
     },
     "execution_count": 292,
     "metadata": {},
     "output_type": "execute_result"
    }
   ],
   "source": [
    "# import matplotlib.pyplot as plt\n",
    "# import seaborn as sns\n",
    "# #Print out the statistics from the classifier\n",
    "# f, (ax1, ax2) = plt.subplots(1, 2, figsize=(12, 4))\n",
    "# t = f.suptitle('Performance Graph', fontsize=14)\n",
    "# f.subplots_adjust(top=0.85, wspace=0.3)\n",
    "# #Plotting accuracy Statistics according to epoch\n",
    "# epoch_list = list(range(1,101))\n",
    "# ax1.plot(epoch_list, history.history['accuracy'], label='Training Accuracy')\n",
    "# ax1.plot(epoch_list, history.history['val_accuracy'], label='Validation Accuracy')\n",
    "# ax1.set_xticks(np.arange(0, 101, 5))\n",
    "# ax1.set_ylabel('Accuracy')\n",
    "# ax1.set_xlabel('Epoch')\n",
    "# ax1.set_title('Accuracy Graph')\n",
    "# l1 = ax1.legend(loc=\"best\")\n",
    "\n",
    "# ax2.plot(epoch_list, history.history['loss'], label='Training Loss')\n",
    "# ax2.plot(epoch_list, history.history['val_loss'], label='Validation Loss')\n",
    "# ax2.set_xticks(np.arange(0, 101, 5))\n",
    "# ax2.set_ylabel('Loss')\n",
    "# ax2.set_xlabel('Epoch')\n",
    "# ax2.set_title('Loss Graph')\n",
    "# l2 = ax2.legend(loc=\"best\")\n",
    "\n",
    "hist.history.keys()"
   ]
  },
  {
   "cell_type": "code",
   "execution_count": 37,
   "metadata": {},
   "outputs": [
    {
     "data": {
      "text/plain": [
       "<function matplotlib.pyplot.show(close=None, block=None)>"
      ]
     },
     "execution_count": 37,
     "metadata": {},
     "output_type": "execute_result"
    },
    {
     "data": {
      "image/png": "[encoded data removed]",
      "text/plain": [
       "<Figure size 432x288 with 1 Axes>"
      ]
     },
     "metadata": {
      "needs_background": "light"
     },
     "output_type": "display_data"
    }
   ],
   "source": [
    "plt.plot(hist.history['accuracy'])\n",
    "plt.plot(hist.history['val_accuracy'])\n",
    "plt.title('model accuracy')\n",
    "plt.ylabel('accuracy')\n",
    "plt.xlabel('epoch')\n",
    "plt.legend(['train','test'],loc ='upper left')\n",
    "plt.show"
   ]
  },
  {
   "cell_type": "code",
   "execution_count": 38,
   "metadata": {},
   "outputs": [
    {
     "data": {
      "text/plain": [
       "<function matplotlib.pyplot.show(close=None, block=None)>"
      ]
     },
     "execution_count": 38,
     "metadata": {},
     "output_type": "execute_result"
    },
    {
     "data": {
      "image/png": "[encoded data removed]",
      "text/plain": [
       "<Figure size 432x288 with 1 Axes>"
      ]
     },
     "metadata": {
      "needs_background": "light"
     },
     "output_type": "display_data"
    }
   ],
   "source": [
    "plt.plot(hist.history['loss'])\n",
    "plt.plot(hist.history['val_loss'])\n",
    "plt.title('model loss')\n",
    "plt.ylabel('loss')\n",
    "plt.xlabel('epoch')\n",
    "plt.legend(['train','test'],loc ='upper left')\n",
    "plt.show"
   ]
  },
  {
   "cell_type": "code",
   "execution_count": 31,
   "metadata": {},
   "outputs": [],
   "source": [
    "y_pred = model.predict(X_test)"
   ]
  },
  {
   "cell_type": "code",
   "execution_count": 32,
   "metadata": {},
   "outputs": [
    {
     "name": "stdout",
     "output_type": "stream",
     "text": [
      "28/28 [==============================] - 0s 2ms/step - loss: 0.0372 - accuracy: 0.9944\n",
      "[0.03719938173890114, 0.9944071769714355]\n"
     ]
    }
   ],
   "source": [
    "score = model.evaluate(X_test, y_test,verbose=1)\n",
    "print(score)"
   ]
  },
  {
   "cell_type": "code",
   "execution_count": 33,
   "metadata": {},
   "outputs": [
    {
     "name": "stdout",
     "output_type": "stream",
     "text": [
      "[[744   4]\n",
      " [  1 145]]\n",
      "              precision    recall  f1-score   support\n",
      "\n",
      "           0       1.00      0.99      1.00       748\n",
      "           1       0.97      0.99      0.98       146\n",
      "\n",
      "    accuracy                           0.99       894\n",
      "   macro avg       0.99      0.99      0.99       894\n",
      "weighted avg       0.99      0.99      0.99       894\n",
      "\n"
     ]
    }
   ],
   "source": [
    "print(confusion_matrix(y_test, y_pred.round()))\n",
    "print(classification_report(y_test,y_pred.round()))"
   ]
  },
  {
   "cell_type": "code",
   "execution_count": 39,
   "metadata": {},
   "outputs": [
    {
     "name": "stdout",
     "output_type": "stream",
     "text": [
      "0.9982785143945498\n"
     ]
    },
    {
     "data": {
      "image/png": "[encoded data removed]",
      "text/plain": [
       "<Figure size 504x360 with 1 Axes>"
      ]
     },
     "metadata": {
      "needs_background": "light"
     },
     "output_type": "display_data"
    },
    {
     "data": {
      "image/png": "[encoded data removed]",
      "text/plain": [
       "<Figure size 504x360 with 1 Axes>"
      ]
     },
     "metadata": {
      "needs_background": "light"
     },
     "output_type": "display_data"
    }
   ],
   "source": [
    "FPR, TPR, _ = roc_curve(y_test, y_pred)\n",
    "ROC_AUC = auc(FPR, TPR)\n",
    "print (ROC_AUC)\n",
    "\n",
    "plt.figure(figsize =[7,5])\n",
    "plt.plot(FPR, TPR, label= 'ROC curve(area = %0.2f)'%ROC_AUC, linewidth= 2)\n",
    "plt.plot([0,1],[0,1], 'k--', linewidth = 2)\n",
    "plt.xlim([0.0,1.0])\n",
    "plt.ylim([0.0,1.05])\n",
    "plt.xlabel('False Positive Rate', fontsize = 14)\n",
    "plt.ylabel('True Positive Rate', fontsize = 14)\n",
    "plt.title('ANN ROC ', fontsize= 14)\n",
    "plt.show()\n",
    "#Precision recall curve\n",
    "precision, recall, _ = precision_recall_curve(y_test, y_pred)\n",
    "PR_AUC = auc(recall, precision)\n",
    "\n",
    "plt.figure(figsize=[7,5])\n",
    "plt.plot(recall, precision, label='PR curve (area = %0.2f)' % PR_AUC, linewidth=2)\n",
    "plt.xlabel('Recall', fontsize=14)\n",
    "plt.ylabel('Precision', fontsize=14)\n",
    "plt.title('ANN Precision & Recall Curve', fontsize=14)\n",
    "plt.legend(loc=\"lower right\")\n",
    "plt.show()"
   ]
  },
  {
   "cell_type": "code",
   "execution_count": null,
   "metadata": {},
   "outputs": [],
   "source": []
  },
  {
   "cell_type": "code",
   "execution_count": null,
   "metadata": {},
   "outputs": [],
   "source": []
  },
  {
   "cell_type": "code",
   "execution_count": null,
   "metadata": {},
   "outputs": [],
   "source": [
    " "
   ]
  }
 ],
 "metadata": {
  "kernelspec": {
   "display_name": "Python 3",
   "language": "python",
   "name": "python3"
  },
  "language_info": {
   "codemirror_mode": {
    "name": "ipython",
    "version": 3
   },
   "file_extension": ".py",
   "mimetype": "text/x-python",
   "name": "python",
   "nbconvert_exporter": "python",
   "pygments_lexer": "ipython3",
   "version": "3.8.5"
  }
 },
 "nbformat": 4,
 "nbformat_minor": 4
}
